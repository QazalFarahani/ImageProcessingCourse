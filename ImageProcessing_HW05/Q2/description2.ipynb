{
 "cells": [
  {
   "cell_type": "markdown",
   "id": "51aa0d64",
   "metadata": {},
   "source": [
    "# Poisson Blending\n",
    "\n",
    "We need two images and a mask image to determine which location we want to replace the image in and we define its position by one point for each image. then we get two rectangular shapes from each image.\n",
    "\n",
    "In the Poisson Blending method, we are working with gradients of the image rather than image and we want to have the same gradient. for some pixels we have their values and for some we dont have. for pixels we don't have values, we want to find them by assumption of equality of gradients. so we can form a matrix like below and form a system:"
   ]
  },
  {
   "cell_type": "markdown",
   "id": "59d89908",
   "metadata": {},
   "source": [
    "For pixels we don't have their values we have:\n",
    "$$src_{ij} = tar_{ij}$$\n",
    "\n",
    "And for pixels we have their values:\n",
    "$$tar_{i+1, j} + tar_{i-1, j} + tar_{i, j+1} + tar_{i, j-1} - 4tar_{i,j} = \\nabla^2 src_{i, j}$$\n",
    "\n",
    "So we can create matrix A and vector b and solve the system to get vector x.\n",
    "As we know matrix a is a sparse matrix we can use methods for solving sparse matrices.\n",
    "\n",
    "At the end we can reshape x and replace values in target image to get the result."
   ]
  },
  {
   "cell_type": "markdown",
   "id": "3c683092",
   "metadata": {},
   "source": [
    "![](res3.jpg)"
   ]
  },
  {
   "cell_type": "markdown",
   "id": "20aa1fbe",
   "metadata": {},
   "source": [
    "![](res07.jpg)"
   ]
  }
 ],
 "metadata": {
  "kernelspec": {
   "display_name": "Python 3 (ipykernel)",
   "language": "python",
   "name": "python3"
  },
  "language_info": {
   "codemirror_mode": {
    "name": "ipython",
    "version": 3
   },
   "file_extension": ".py",
   "mimetype": "text/x-python",
   "name": "python",
   "nbconvert_exporter": "python",
   "pygments_lexer": "ipython3",
   "version": "3.9.7"
  }
 },
 "nbformat": 4,
 "nbformat_minor": 5
}
