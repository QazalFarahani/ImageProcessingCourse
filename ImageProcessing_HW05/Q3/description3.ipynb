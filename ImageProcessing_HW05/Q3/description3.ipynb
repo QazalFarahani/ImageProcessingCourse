{
 "cells": [
  {
   "cell_type": "markdown",
   "id": "0d7bb097",
   "metadata": {},
   "source": [
    "# Multiresolution Blending and Feathering\n",
    "\n",
    "We need two images and a mask. To combine images, for each image we create a laplacian stack. It's similar to the Laplacian pyramid but we just don't resize images.\n",
    "\n",
    "In this method we should combine two images by getting a weighted average of them:\n",
    "\n",
    "$$L^i_{12} = L^i_{1} . R^i + L^i_{2} . (1 - R^i)$$\n",
    "\n",
    "Which $R^i$ is the mask at level i of stack. In these images We want to blend low frequencies, slowly and high frequencies, quickly. So in low frequency images we blur the mask image strongly and for high frequencies we blend images a little to let details of each image remain obviously. With doing this, we combine two images but details will remain on the result. because low frequencies in images are pixels that are changing slowly over space, while high frequencies are pixels that are rapidly changing in space. so we have details of images in high frequency images.\n",
    "\n",
    "So after creating laplacian stacks, we should start from the last image, on each step blend two images of that level as explained and then add it with the next image in the stack. we do it until end to get the result."
   ]
  },
  {
   "cell_type": "markdown",
   "id": "79f82d70",
   "metadata": {},
   "source": [
    "![](res10.jpg)"
   ]
  },
  {
   "cell_type": "markdown",
   "id": "fdf2c694",
   "metadata": {},
   "source": [
    "![](res4.jpg)"
   ]
  }
 ],
 "metadata": {
  "kernelspec": {
   "display_name": "Python 3 (ipykernel)",
   "language": "python",
   "name": "python3"
  },
  "language_info": {
   "codemirror_mode": {
    "name": "ipython",
    "version": 3
   },
   "file_extension": ".py",
   "mimetype": "text/x-python",
   "name": "python",
   "nbconvert_exporter": "python",
   "pygments_lexer": "ipython3",
   "version": "3.9.7"
  }
 },
 "nbformat": 4,
 "nbformat_minor": 5
}
