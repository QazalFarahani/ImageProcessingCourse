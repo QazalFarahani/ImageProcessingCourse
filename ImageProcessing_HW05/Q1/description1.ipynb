{
 "cells": [
  {
   "cell_type": "markdown",
   "id": "fc1093fe",
   "metadata": {},
   "source": [
    "# Morphing\n",
    "\n",
    "We need to pick two images and change (or morph) one image or shape into another through transition. In order to do this we should specify some point on each image and map each one to corresponding points on another image. so first of all we triangularize images like below:\n"
   ]
  },
  {
   "cell_type": "markdown",
   "id": "41602eff",
   "metadata": {},
   "source": [
    "![](triangulation_src.jpg)"
   ]
  },
  {
   "cell_type": "markdown",
   "id": "c5254e31",
   "metadata": {},
   "source": [
    "![](triangulation_tar.jpg)"
   ]
  },
  {
   "cell_type": "markdown",
   "id": "1ad8db42",
   "metadata": {},
   "source": [
    "We want to start from the source image and slightly change the image to get the target image. We do this by getting an average of images, not an average of two images of objects but an image of the average object. We do that by warping images and get a weighted average over time t. So for each step we should create an image by combining two images. we find corresponding points in this average image by linearly moving source points to destination points.\n",
    "\n",
    "Then for each triangle in source and target images first we need to warp image to corresponding triangle in another image and according to iteration i we combine two images to get average image:\n",
    "\n",
    "$$t * source + (1 - t) * target$$\n",
    "$$t = iteration \\; / \\; number \\; of \\; iterations$$\n",
    "\n",
    "Warping: to warp an image we find an affine transform function from source points to destination points by cv2.getAffineTransform().\n",
    "Then we apply this function to points to get a result.\n",
    "\n",
    "At the end we can make a gif using frames on each step."
   ]
  },
  {
   "cell_type": "markdown",
   "id": "7ee12066",
   "metadata": {},
   "source": [
    "<img src=\"morph.gif\">"
   ]
  }
 ],
 "metadata": {
  "kernelspec": {
   "display_name": "Python 3 (ipykernel)",
   "language": "python",
   "name": "python3"
  },
  "language_info": {
   "codemirror_mode": {
    "name": "ipython",
    "version": 3
   },
   "file_extension": ".py",
   "mimetype": "text/x-python",
   "name": "python",
   "nbconvert_exporter": "python",
   "pygments_lexer": "ipython3",
   "version": "3.9.7"
  }
 },
 "nbformat": 4,
 "nbformat_minor": 5
}
