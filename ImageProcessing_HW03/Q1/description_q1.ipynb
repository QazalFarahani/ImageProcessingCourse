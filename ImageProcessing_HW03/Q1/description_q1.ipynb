{
 "cells": [
  {
   "cell_type": "markdown",
   "id": "37b26eab",
   "metadata": {},
   "source": [
    " # Hough Transform\n",
    " To implement Hough transform algorithm, first of all we should get edges. we use cv2.Canny to produce edge image. Then we define a hough space, A 2D array which represents all lines. A line on an edge image is represented in the form of:\n",
    " $$\\rho = x cos(\\theta) + y sin(\\theta)$$\n",
    " \n",
    " in order to create hough space, we should discretize all values. we define a range for rho according to shape of the image($[-\\rho, \\rho]$ where d is the length of the edge image’s diagonal.) and a range for theta([0, 180]) and a step for $\\theta$ and $\\rho$, horizontal axis for $\\theta$ and the vertical axis for $\\rho$ values.\n",
    " \n",
    "To detect lines in edge image, we find any line which passes through each edge pixel. so we loop through all possible values of $\\theta$, calculate the corresponding $\\rho$ with given formula, and use them as index to increment the accumulator. Then to get best lines, we get all values larger than a certain threshold and use skimage.feature.peak_local_max to get locak maximums.\n",
    "\n",
    "Now we want to detect lines in chess area. so we sort lines by theta and compare their theta values using a threshold to split lines into several groups. each group represents a group of parallel lines. then we calculate groups's lengths and pick two maximums. \n",
    "\n",
    "But still we have a few extra lines. to remove them, we get all intersections and calculate the number of appropriate points(points in chess area) and if more than half of them was in chess area, we choose that line. to get intersection we use formula below:\n",
    "$$A = \\begin{bmatrix} cos \\theta_1  sin \\theta_1 \\\\ cos \\theta_2  sin \\theta_2 \\end{bmatrix}$$\n",
    "$$b = \\begin{bmatrix} \\rho_1 \\\\ \\rho_2 \\end{bmatrix}$$\n",
    "with solving Az = b, we get $$z = \\begin{bmatrix} x \\\\ y \\end{bmatrix}$$\n",
    "\n",
    "and to undrestand a point is in chess area or not, we should check regions around it and see if it is like chess board or not. we check all possible ways to have a point in chess area. (In more details, we get slope of two group of parallel lines in chess area and move a little bit perpendecular to them to get four regions(we can get just one pixel or a small area) around each points and check if its black and white in a specific way or not. in order to do this we define a threshold to realize a region is black or white.)\n",
    "\n",
    "Then we iterate through all detected lines and remove lines that are so close(we compare their rhos).\n",
    "\n",
    "Now we have all good lines(lines in chess region), so we can easily get all intersections and plot them at the end.\n",
    "\n",
    "\n",
    "* to draw lines, we have $\\theta$ and $\\rho$(form $\\rho = x cos(\\theta) + y sin(\\theta)$). to get a and b in from $ax + b = y$, we should calculate $cos \\theta and sin \\theta$ and get two random point on this line using $ax + b = y$ and then plot the line."
   ]
  },
  {
   "cell_type": "code",
   "execution_count": null,
   "id": "fef82643",
   "metadata": {},
   "outputs": [],
   "source": []
  }
 ],
 "metadata": {
  "kernelspec": {
   "display_name": "Python 3 (ipykernel)",
   "language": "python",
   "name": "python3"
  },
  "language_info": {
   "codemirror_mode": {
    "name": "ipython",
    "version": 3
   },
   "file_extension": ".py",
   "mimetype": "text/x-python",
   "name": "python",
   "nbconvert_exporter": "python",
   "pygments_lexer": "ipython3",
   "version": "3.9.7"
  }
 },
 "nbformat": 4,
 "nbformat_minor": 5
}
