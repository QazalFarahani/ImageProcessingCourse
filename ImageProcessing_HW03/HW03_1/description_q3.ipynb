{
 "cells": [
  {
   "cell_type": "markdown",
   "id": "56523901",
   "metadata": {},
   "source": [
    "# Image Completion\n",
    "In this question we use texture synthesis whic is implemented in q2. first of all, we select a region which we can search on. then define top left point(for example) of the area we want to complete. we remove that region from the image by setting all values equal to zero. then similar to q2 we reconstruct that region. but after that we will get two lines(right and bottom of the image) which don't match properly. to remove those bad shaped lines we create a mask like below:\n"
   ]
  },
  {
   "cell_type": "markdown",
   "id": "58848cfb",
   "metadata": {},
   "source": [
    "![](mask4.png)"
   ]
  },
  {
   "cell_type": "markdown",
   "id": "3310f9aa",
   "metadata": {},
   "source": [
    "get best path and merging images are similar to q2 just the mask has three sides and we should do the algorithm for each side sepereately.\n",
    "\n",
    "we do that for the horizontal and vertical line on right and bottom of the section to get a better result visually. the implementation is similar just indexing and shapes are different."
   ]
  },
  {
   "cell_type": "markdown",
   "id": "ea8397da",
   "metadata": {},
   "source": [
    "If we start from top left corner of the selected region, we don't get a good result for the top two birds:\n",
    "![](bad_result.jpg)"
   ]
  },
  {
   "cell_type": "markdown",
   "id": "1b42fcfa",
   "metadata": {},
   "source": [
    "But similar to [Criminisi, Perez, and Toyama]'s idea, we can start from those pixels which are a continuation of a strong gradient or edge. so if we start from left bottom corner and put blocks side by side and complete the image start from bottom row to top, we will have a better image and the trunks will be reconstructed more properly. so we can get result below:\n",
    "![](res15.jpg)"
   ]
  }
 ],
 "metadata": {
  "kernelspec": {
   "display_name": "Python 3 (ipykernel)",
   "language": "python",
   "name": "python3"
  },
  "language_info": {
   "codemirror_mode": {
    "name": "ipython",
    "version": 3
   },
   "file_extension": ".py",
   "mimetype": "text/x-python",
   "name": "python",
   "nbconvert_exporter": "python",
   "pygments_lexer": "ipython3",
   "version": "3.9.7"
  }
 },
 "nbformat": 4,
 "nbformat_minor": 5
}
