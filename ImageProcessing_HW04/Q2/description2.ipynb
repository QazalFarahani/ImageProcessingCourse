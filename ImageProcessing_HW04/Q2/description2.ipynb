{
 "cells": [
  {
   "cell_type": "markdown",
   "id": "528edb12",
   "metadata": {},
   "source": [
    "# Mean Shift\n",
    "\n",
    "Mean shift is a clustering-based segmentation algorithm. To segment the given image using mean shift, we should create a feature space. we create a (256, 256, 256) matrix(feature_space_num). for each pixel of the image we increment the corresponding pixel in feature space. So we can have number of each color in feature space. feature space also is a representation of colors density. The mean-shift algorithm seeks modes or local maxima of density in the feature space. we also create a (256, 256, 256, 3) matrix(feature_space_sum) to store sum of pixels with same color. Then we calculate cumulative sum of each matrix. Now for each nonzero pixel in feature_spcae_num we find corresponding center:\n",
    "\n",
    "Get_centroid: we define a window arround the given point in created matrices. in order to do this we will use cumulative matrices we've created before. we find corners of the window. then according to Inclusion–exclusion principle we can get window wich we want from each matrix. then we divide sum of second matrix(neighbours_sum) by sum of first matrix to get the center(mean) of the window.(sum of second matrix is sum of all points in the window and sum of first matrix is number of the points in the window). then we shift our current pixel to obtained center. then we repeat the algorithm until center converges.\n",
    "\n",
    "Then we assing each point to the local maxima which we found and set it's color equal to center. at the end we should get a result like:\n"
   ]
  },
  {
   "cell_type": "markdown",
   "id": "533ec7c5",
   "metadata": {},
   "source": [
    "![](res05.jpg)"
   ]
  },
  {
   "cell_type": "markdown",
   "id": "4d1dced8",
   "metadata": {},
   "source": [
    "* we run the algorithm on images in LUV color space."
   ]
  }
 ],
 "metadata": {
  "kernelspec": {
   "display_name": "Python 3 (ipykernel)",
   "language": "python",
   "name": "python3"
  },
  "language_info": {
   "codemirror_mode": {
    "name": "ipython",
    "version": 3
   },
   "file_extension": ".py",
   "mimetype": "text/x-python",
   "name": "python",
   "nbconvert_exporter": "python",
   "pygments_lexer": "ipython3",
   "version": "3.9.7"
  }
 },
 "nbformat": 4,
 "nbformat_minor": 5
}
