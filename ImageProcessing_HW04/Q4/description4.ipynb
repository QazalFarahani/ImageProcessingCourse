{
 "cells": [
  {
   "cell_type": "markdown",
   "id": "90488c2c",
   "metadata": {},
   "source": [
    "# Segmentation\n",
    "\n",
    "1. Grab-cut: in this method we are using a mask which defines each bird with some white dots. we create a few templates of birds. we run cv2.templateMatch to get birds in the image, then by using a theshold and using skimage.feature.peak_local_max we get most similar matcehs. After that for each match we get the correspoding mask of the image, take the part that we want, create a mask for grabCut fundtion(white dots equal to 1 : object, a border around the mask equal to 0 : back ground) then function grabCut defines the bird(the object we want to seperate from background). Then we merge each result in the final result mask of the whole image."
   ]
  },
  {
   "cell_type": "markdown",
   "id": "d94f6291",
   "metadata": {},
   "source": [
    "![](res10.jpg)"
   ]
  },
  {
   "cell_type": "markdown",
   "id": "b56abc27",
   "metadata": {},
   "source": [
    "2. Hole filling: first of all we blur image to decrease noises we have, apply Canny function to get edges in the image and then blur the edge image to connect edges. with doing this, for each bird we will have a circle shape in the edge image. like previouse section we use templatematch method to find birds. and then use funcction ndi.binary_fill_holes() to fill those circle shapes of each bird. at the end we will have shape of each bird in the final mask of the image.\n",
    "\n",
    "* With this method we can detect birds better but the most left birds are a little bit hard to detect because of the background(background also has edges and the colors are similar too)."
   ]
  },
  {
   "cell_type": "markdown",
   "id": "ad7994e2",
   "metadata": {},
   "source": [
    "![](res10-hole-filling.jpg)"
   ]
  },
  {
   "cell_type": "markdown",
   "id": "e5578ba1",
   "metadata": {},
   "source": [
    "* to apply the mask on the original image and showing the birds, we are using skcolor.label2rgb() method."
   ]
  },
  {
   "cell_type": "code",
   "execution_count": null,
   "id": "1c2f3274",
   "metadata": {},
   "outputs": [],
   "source": []
  }
 ],
 "metadata": {
  "kernelspec": {
   "display_name": "Python 3 (ipykernel)",
   "language": "python",
   "name": "python3"
  },
  "language_info": {
   "codemirror_mode": {
    "name": "ipython",
    "version": 3
   },
   "file_extension": ".py",
   "mimetype": "text/x-python",
   "name": "python",
   "nbconvert_exporter": "python",
   "pygments_lexer": "ipython3",
   "version": "3.9.7"
  }
 },
 "nbformat": 4,
 "nbformat_minor": 5
}
