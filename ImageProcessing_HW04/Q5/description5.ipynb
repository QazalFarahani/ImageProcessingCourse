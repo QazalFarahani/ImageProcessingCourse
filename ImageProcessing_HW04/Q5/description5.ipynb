{
 "cells": [
  {
   "cell_type": "markdown",
   "id": "583b6bca",
   "metadata": {},
   "source": [
    "# Active Contours\n",
    "\n",
    "First of all we should define dome point around the shape we want to detect. we get two inputs from user. first one as the center of the circle and the second one for determine the radius. then we use center and radius to create 100 points on a circle around our object. \n",
    "\n",
    "we use Canny function to get gradient of the image then we blyr the gradient image and map its values to range(0, 1).\n",
    "Now we want to move each point to minimize the cost function below:\n",
    "\n",
    "$$E = E_{internal} + \\gamma E_{external}$$\n",
    "$$E_{external} = -(G_X(v_i)^2 + G_y(v_i)^2)$$\n",
    "$$E_{internal} = \\alpha \\sum_{i} (||v_{i + 1} - v_{i}||^2 - \\bar{d})^2 + \\beta \\sum_{i} (v_i - \\bar{v})^2 * (sigmoid(|E_{external}|))$$\n",
    "$$\\bar{d} = \\frac{1}{n} \\sum_{i} | v_{i + 1} - v_i|$$\n",
    "$$\\bar{v} = \\frac{1}{n} \\sum_{i}v_i$$\n",
    "\n",
    "Gamma: The external term is about the gradient of the image. we want to maximize the gradient, so the mupltiplier of external energy in cost function should be negative. \n",
    "alpha: This term controls the elasticity of the curve and force the points to be close to each other by minizing distance between them.\n",
    "beta: This term forces points to move towards center by minizimg dintanse of the point and the center of them.\n",
    "\n",
    "sigmoid: This term decreases affect of beta term. after each point reaches the object we want beta term affect to be decreased.\n",
    "\n",
    "So in this algorithm we want to minimize cost function. we implement it using dynamic programming. at the end its enough to get minimum value of the last layer. this would give us the optimal points. so we start from the end and update each point backwards. we should notice the connection between last and first point to get a closed curve at the end.\n"
   ]
  },
  {
   "cell_type": "markdown",
   "id": "b100393c",
   "metadata": {},
   "source": [
    "![](res11.jpg)"
   ]
  },
  {
   "cell_type": "code",
   "execution_count": null,
   "id": "266a9f1e",
   "metadata": {},
   "outputs": [],
   "source": []
  }
 ],
 "metadata": {
  "kernelspec": {
   "display_name": "Python 3 (ipykernel)",
   "language": "python",
   "name": "python3"
  },
  "language_info": {
   "codemirror_mode": {
    "name": "ipython",
    "version": 3
   },
   "file_extension": ".py",
   "mimetype": "text/x-python",
   "name": "python",
   "nbconvert_exporter": "python",
   "pygments_lexer": "ipython3",
   "version": "3.9.7"
  }
 },
 "nbformat": 4,
 "nbformat_minor": 5
}
