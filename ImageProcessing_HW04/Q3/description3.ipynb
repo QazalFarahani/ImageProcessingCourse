{
 "cells": [
  {
   "cell_type": "markdown",
   "id": "86b6f863",
   "metadata": {},
   "source": [
    "# SLIC\n",
    "\n",
    "First of all we define a center for each super pixels. according to number of super pixels we are looking for we can get distance between them and craete a grid like shape to specify centers. so:\n",
    "$$S = h * w$$ $$ k = number\\; of \\;super\\; pixels$$ $$ grid\\;size = \\sqrt{\\frac{S}{k}}$$\n",
    "\n",
    "Then after defining centers, we move each center a little bit to have centers in better place(less gradient) we are looking for the best pixel in a 5*5 grid around each center. then we assign each pixel of the image to a cluster. in order to do that for each pixel we get four nearest centers and assign that to the most similar cluster center according to similarity function below:\n",
    "\n",
    "$$D = D_{lab} + \\frac{m}{S} D_{xy}$$\n",
    "According to the SLIC paper, we set m = 10 to get better results.\n",
    " Then we update each cluster center by taking the mean of all points in each cluster(like what we did in k-Means algorithm). After a few iterations, centers converge.\n",
    " \n",
    "To plot borders of super pixels, for each pixel we compare it with up, down,left and right pixel. if cluster centers was different the pixel is on the border and we set its value to zero. at last we will have black borders for each cuper pixel."
   ]
  },
  {
   "cell_type": "markdown",
   "id": "da4638ca",
   "metadata": {},
   "source": [
    "![](res06.jpg)\n",
    "![](res07.jpg)\n",
    "![](res08.jpg)\n",
    "![](res09.jpg)"
   ]
  },
  {
   "cell_type": "code",
   "execution_count": null,
   "id": "d528bdc2",
   "metadata": {},
   "outputs": [],
   "source": []
  }
 ],
 "metadata": {
  "kernelspec": {
   "display_name": "Python 3 (ipykernel)",
   "language": "python",
   "name": "python3"
  },
  "language_info": {
   "codemirror_mode": {
    "name": "ipython",
    "version": 3
   },
   "file_extension": ".py",
   "mimetype": "text/x-python",
   "name": "python",
   "nbconvert_exporter": "python",
   "pygments_lexer": "ipython3",
   "version": "3.9.7"
  }
 },
 "nbformat": 4,
 "nbformat_minor": 5
}
