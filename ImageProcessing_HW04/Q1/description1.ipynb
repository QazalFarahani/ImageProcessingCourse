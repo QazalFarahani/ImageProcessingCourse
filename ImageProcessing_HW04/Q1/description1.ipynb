{
 "cells": [
  {
   "cell_type": "markdown",
   "id": "ea1a69ca",
   "metadata": {},
   "source": [
    "# K-Means\n",
    "\n",
    "In this algortihm we want to partition n observations into k clusters, where each observation is a d-dimensional vector(here d is 2). First of all we pick k random points as center of each cluster($\\mu_1, ..., \\mu_k$). then we assign each observation to the cluster with the nearest mean. so we want to minimize objective function below:\n",
    "\n",
    "$$\\sum_{i}^{n}\\sum_{k}^{K} ||x_i - \\mu_k||^2$$\n",
    "\n",
    "Then we update cluster centers by taking mean of each cluster. so we recalculate each center and repeat the process.The algorithm converges after a few steps.\n",
    "\n",
    "we run the algorithm for given data point:"
   ]
  },
  {
   "cell_type": "markdown",
   "id": "4318e768",
   "metadata": {},
   "source": [
    "![](res02.jpg)"
   ]
  },
  {
   "cell_type": "markdown",
   "id": "05554f53",
   "metadata": {},
   "source": [
    "As you can see data points are not linearly seperable. but if we convert each point from cartesian to polar representation, we get the result below:"
   ]
  },
  {
   "cell_type": "markdown",
   "id": "ca626106",
   "metadata": {},
   "source": [
    "![](res04.jpg)"
   ]
  },
  {
   "cell_type": "code",
   "execution_count": null,
   "id": "f35ad129",
   "metadata": {},
   "outputs": [],
   "source": []
  }
 ],
 "metadata": {
  "kernelspec": {
   "display_name": "Python 3 (ipykernel)",
   "language": "python",
   "name": "python3"
  },
  "language_info": {
   "codemirror_mode": {
    "name": "ipython",
    "version": 3
   },
   "file_extension": ".py",
   "mimetype": "text/x-python",
   "name": "python",
   "nbconvert_exporter": "python",
   "pygments_lexer": "ipython3",
   "version": "3.9.7"
  }
 },
 "nbformat": 4,
 "nbformat_minor": 5
}
