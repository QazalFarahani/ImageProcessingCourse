{
 "cells": [
  {
   "cell_type": "markdown",
   "id": "51578968",
   "metadata": {},
   "source": [
    "# Homography and Image Warping\n",
    "To get the affine transform and apply homography matrix and adjust perspective, we should specify four points in source image and corresponding points in destination image. we are simply going to click the points by hand and hardcode them. we set height(width) of destination equal to  mean of height(width) of each side of specified part of original image.\n",
    "\n",
    "cv2.findHomography will estimate a homography that best fits all corresponding points. now for image warping, instead of applying obtained transform on source image to get destination points, conversely we calculate inverse transform and then find source point for each point in destination.(while applying tranform on src image, we might get several points mapped to one point or some of dst points may remain empty. so we do that conversely to get better result.)\n",
    "\n",
    "To improve this method, instead of get just one point after apply inverse transform, we use bilinear interpolation to get value in backward transformation:\n",
    "\n",
    "$$f(x + a, y + b) = (1 - a)(1 - b)f(x, y) + a(1 - b)f(x + 1, y) + b(1 - a)f(x, y + 1) + abf(x + 1, y + 1)$$\n",
    "\n",
    "$$f(x + a, y + b) = \\begin{bmatrix}\n",
    "1 - a & a\n",
    "\\end{bmatrix}\n",
    "\\begin{bmatrix}\n",
    "f(x, y) & f(x + 1, y)\\\\\n",
    "f(x, y + 1) & f(x + 1, y + 1)\n",
    "\\end{bmatrix}\n",
    "\\begin{bmatrix}\n",
    "1 - b\\\\\n",
    "b\n",
    "\\end{bmatrix}$$\n",
    "\n",
    "notice in backward transformation, after getting the point, we should divide each element by third element to make third element's value equal to one.\n",
    "\n",
    "* We are doing this for each channel in RGB.\n",
    "\n"
   ]
  }
 ],
 "metadata": {
  "kernelspec": {
   "display_name": "Python 3 (ipykernel)",
   "language": "python",
   "name": "python3"
  },
  "language_info": {
   "codemirror_mode": {
    "name": "ipython",
    "version": 3
   },
   "file_extension": ".py",
   "mimetype": "text/x-python",
   "name": "python",
   "nbconvert_exporter": "python",
   "pygments_lexer": "ipython3",
   "version": "3.9.7"
  }
 },
 "nbformat": 4,
 "nbformat_minor": 5
}
