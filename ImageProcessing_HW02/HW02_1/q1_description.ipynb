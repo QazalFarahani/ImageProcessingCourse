{
 "cells": [
  {
   "cell_type": "markdown",
   "id": "3c2a1def",
   "metadata": {},
   "source": [
    "# Image Sharpening\n",
    "We can sharp images using various methods. we are sharpenning given image using 2 methods in spatial domain and 2 in frequency domain.\n",
    "\n",
    "#### method1:\n",
    "we are going to use $$f + \\alpha (f - f * g).$$ so first of all, we need to create gaussian filter:\n",
    "$$G(x, y) = \\frac{1}{2 \\pi \\sigma^2} \\exp{(-\\frac{x^2 + y^2}{2 \\sigma^2})}.$$\n",
    "Here we created 5*5 kernel with $\\sigma = 1$.\n",
    "Then we convolve the kernel we have created with image using filter2D method and get the blurred image. If we subtract blurred image from original we get unsharp mask:$$f - f * g.$$ Then its enough to add a factor of unsharp mask to image and get now get an image that is noticeably sharper$$f + \\alpha(f - f * g).$$\n",
    "\n",
    "#### method2:\n",
    "We are using formula:\n",
    "$$f - k(f * ∆g).$$\n",
    "So we create a laplacian kernel:\n",
    "$$\\nabla^2 G = \\frac{1}{\\sigma} \\frac{\\partial G}{\\partial \\sigma} = \\frac{x^2 + y^2 - 2\\sigma ^2}{2 \\pi \\sigma ^4} \\exp{(-\\frac{x^2 + y^2}{2 \\sigma^2})}.$$\n",
    "Then after convolving laplacian kernel with image we get unsharp mask:\n",
    "$$f * ∆g.$$\n",
    "We can subtract a factor of mask from image to get the result:\n",
    "$$f - k(f * ∆g).$$\n",
    "\n",
    "#### method3:\n",
    "For using formula:\n",
    "$$\\mathscr{F}^{-1}\\{(1 + H_{HP}).F\\}$$\n",
    "we should create a highpass filter. to do this, we can create a gaussian filter and then rescale it or easily remove factor $\\frac{1}{2 \\pi \\sigma^2}$. so the maximum value is one and we will have a highpass filter.\n",
    "Then by  adding 1 to filter and multiply by image we will have:\n",
    "$$(1 + H_{HP}).F$$\n",
    "And we use inverse of fourier to get the result:\n",
    "$$\\mathscr{F}^{-1}\\{(1 + H_{HP}).F\\}$$\n",
    "* To show fourier tranform of image we should get the real part. we can use log function to get better result beacause center  of image has much more value compare to other pixels.\n",
    "* For better illustration we should map all values to range [0-255].(using function cv2.normalize)\n",
    "\n",
    "#### method4:\n",
    "The formula for sharping image is $$f + k\\mathscr{F}^{-1}\\{4 \\pi^2 (u^2 + v^2).F\\}.$$\n",
    "in order to apply this to image, first we create a matrix equal to $u^2 + v^2$. Then multiply by $4 \\pi^2$ and image to get:\n",
    "$$4 \\pi^2 (u^2 + v^2).F.$$\n",
    "then with using inverse fourier transform we can the unsharp mask:\n",
    "$$\\mathscr{F}^{-1}\\{4 \\pi^2 (u^2 + v^2).F\\}.$$\n",
    "by adding a factor of mask to image, we will have clearly sharpened image:\n",
    "$$f + k\\mathscr{F}^{-1}\\{4 \\pi^2 (u^2 + v^2).F\\}.$$\n",
    "\n",
    "\n",
    "* In all methods, we should notice that while adding or subtracting an image from another, we could get values more than 255 or less than 0. we can easily map them to 255 and 0 to have a nice picture.\n",
    "* We read image in BGR and apply formulas on each channel.\n",
    "* For better illustration, we add unsharp mask filter with value 128. \n",
    "\n",
    "|         | sigma | alpha | k        |\n",
    "|---------|-------|-------|----------|\n",
    "| method1 | 1     | 2     |          |   \n",
    "| method2 | 1     |       | 2        |   \n",
    "| method3 |       |       | 10       |   \n",
    "| method4 |       |       | 0.000003 |"
   ]
  },
  {
   "cell_type": "code",
   "execution_count": null,
   "id": "61f83d00",
   "metadata": {},
   "outputs": [],
   "source": []
  }
 ],
 "metadata": {
  "kernelspec": {
   "display_name": "Python 3 (ipykernel)",
   "language": "python",
   "name": "python3"
  },
  "language_info": {
   "codemirror_mode": {
    "name": "ipython",
    "version": 3
   },
   "file_extension": ".py",
   "mimetype": "text/x-python",
   "name": "python",
   "nbconvert_exporter": "python",
   "pygments_lexer": "ipython3",
   "version": "3.9.7"
  }
 },
 "nbformat": 4,
 "nbformat_minor": 5
}
