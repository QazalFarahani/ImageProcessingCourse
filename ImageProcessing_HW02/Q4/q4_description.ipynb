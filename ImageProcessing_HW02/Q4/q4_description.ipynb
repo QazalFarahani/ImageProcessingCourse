{
 "cells": [
  {
   "cell_type": "markdown",
   "id": "5a74f943",
   "metadata": {},
   "source": [
    "# Hybrid Images\n",
    "\n",
    "A hybrid image is an image that we can see it in two different ways, depending on viewing distance. Hybrid images combine the low frequencies of one picture with the high frequencies of another picture and that's why we see it in two differenet ways. if we look at the picture from a short distance, we can see a sharp image(high frequency), and if we look at the the picture from a distance in which the fine detail blurs, the other picture(low frequency) emerges.\n",
    "\n",
    "So in order to make a hybrid image, we should choose two similar photos. one for low frequencies and another one for high frequnecies. we chose \"Breaking Bad Dean Norris Smiling Meme Template\" :). first of all we should warp images and align two faces so we can get a better result after merging them. so we align two images according to coordinate of eyes and nose and shape of the whole face. \n",
    "\n",
    "Then we should get high frequencies from one image and low frequencies from another one. we do this using highpass and lowpass filters. we can get lowpass filter by simply removing $\\frac{1}{2 \\pi \\sigma^2}$ from gaussian distribution:\n",
    " $$G(x, y) = \\frac{1}{2 \\pi \\sigma^2} \\exp{(-\\frac{x^2 + y^2}{2 \\sigma^2})}.$$\n",
    "and we have:\n",
    "$$H_{HP} = 1 - H_{LP}$$\n",
    "\n",
    "and then for applying these filters we shoud have images in frequency domain. we shift them to have (0, 0) in the center. now we can apply filters by mutiplying them to pictures. we shift them back, apply inverse fourier transform and get the real part.\n",
    "now we have results for each picture. the final result is a convex combination of them. \n",
    "\n",
    "We do these for each channel in rgb seperately. and after merging them we can get a hybrid image.\n",
    "\n",
    "* $r = 20, s = 10$\n",
    "* to get better results we set r greater than s.\n",
    "* to get better image when we look at image from a distance, in combining two images we set low_mul greater than the other.\n"
   ]
  }
 ],
 "metadata": {
  "kernelspec": {
   "display_name": "Python 3 (ipykernel)",
   "language": "python",
   "name": "python3"
  },
  "language_info": {
   "codemirror_mode": {
    "name": "ipython",
    "version": 3
   },
   "file_extension": ".py",
   "mimetype": "text/x-python",
   "name": "python",
   "nbconvert_exporter": "python",
   "pygments_lexer": "ipython3",
   "version": "3.9.7"
  }
 },
 "nbformat": 4,
 "nbformat_minor": 5
}
