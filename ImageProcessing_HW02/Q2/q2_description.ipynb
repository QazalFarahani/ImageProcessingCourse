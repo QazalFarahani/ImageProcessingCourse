{
 "cells": [
  {
   "cell_type": "markdown",
   "id": "1279a096",
   "metadata": {},
   "source": [
    "#  Template Matching\n",
    "we are given two images \"patch.png\" and \"Greek-ship.jpg\" and we should find similar parts to patch in ship image.\n",
    "First of all to find better matches, we cut patch a little bit from borders and in order to deacrease processing time, we resize images with factor 8.\n",
    "To match template, we should look for patch in all possible places. so we loop over possible places and get the similarity using NCC method:\n",
    "$$NCC = \\frac{a.b}{|a||b|}.$$\n",
    "a and b are normalized images: \n",
    "$$a = a - mean(a).$$\n",
    "$$b = b - mean(b).$$\n",
    "At the end we have score matrix which shows similarity. Then we use a threshold to mark obtained images as detected(compare them by similarity value).\n",
    "By doing this, we get multiple matches for each similar picture which they are placed verticaly next to each other but we want to detect each one of objects just once. so we sort detected points by y. then we have all matches for one detected object next to each other. and then we use meadian to choose just one match for all matches of each object.\n",
    "At the end we multiply detected points by resize factor and specify each match with a rectangle around."
   ]
  }
 ],
 "metadata": {
  "kernelspec": {
   "display_name": "Python 3 (ipykernel)",
   "language": "python",
   "name": "python3"
  },
  "language_info": {
   "codemirror_mode": {
    "name": "ipython",
    "version": 3
   },
   "file_extension": ".py",
   "mimetype": "text/x-python",
   "name": "python",
   "nbconvert_exporter": "python",
   "pygments_lexer": "ipython3",
   "version": "3.9.7"
  }
 },
 "nbformat": 4,
 "nbformat_minor": 5
}
