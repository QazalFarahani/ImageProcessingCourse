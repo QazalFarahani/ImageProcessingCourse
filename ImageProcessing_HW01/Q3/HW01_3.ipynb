{
 "cells": [
  {
   "cell_type": "markdown",
   "metadata": {
    "id": "2Wv81Q8SFIcE"
   },
   "source": [
    "# Colorizing the Prokudin-Gorskii Photo Collection\n",
    "\n",
    "we are supposed to merge given 3 grayscale images related to bgr channels to make a colored image out of it. for this purpose we should **align** the images and fix one channel(green channel beacause we get the best result with green channel being fixed) and slide other channel in a defined range to find the optimum offset for red and blue one. to match these channels we are going to use **SSD** as a measure of how two channels are matching. on every iteration we find SSD for channels and compare it to minimum SSD we have found before and update it.\n",
    "\n",
    "$$SSD = \\sum (chnl_1(i) - chnl_2(i)) ^2$$\n",
    "\n",
    "For high resolution images it takes so much time to align channels. in order to decrease the processing time we rescale the image by factor 0.5. consider an **image pyramid**. we start with smallest image(compute the factor and rescale the image), find the offset for that by the align algorithm said abode and then apply the offsets and get overlapped sections and start next iteration with them. in each iteration we update the offset(beacause of the scaling we should multiply the new offset by scale factor and then update the main offset). repeat this to the last image(the original one) to get the real offset for that. this simple method significantly decreases the processing time.\n",
    "\n",
    "\n",
    "In order to make these functions work better:\n",
    "* before processing we define a border for each channel(about 0.05 of height and width) and crop them to decrease the noise.(if we don't, we should apply the matching algorithm on the noises that we have arround of each photo and it decreases the accuracy)\n",
    "\n",
    "* notice that during rescaling images, one channel may have one row or column more than another one. the if statements in rescale function remove the extra row/column and prevent dimensional problems.\n",
    "\n",
    "**auto crop**: according to offsets that we found and after roll the channels to merge them, with notice to negativity or positivity of the offsets we can decide how much we should crop from each side.\n",
    "for example when we want to crop from the top, we should get the maximum offset. if these values are pisitive, we choose the maximum. if they are negative it means that we shouldn't crop the photo from the top and this value should be zero. this means that the value that we are looking for is the maximum number between given offsets and zero.\n",
    "\n",
    "after removing weird colors caused by rolling the images, the white and black border may be remained. in order to crop them we define a range to specify black and white color. for each side we compute the sum of row or column and compare it with the thresholds. if the average of the row/column shows that we have a black or white row/column, we store the indice of that and at the end we choose the maximum indice. with this approach we can detect white and black lines and remove them.\n",
    "\n",
    "after all these works, we can match the channels by rolling them with the values for offset that we found and merge them and get the beautiful colorized images.^^\n",
    "\n",
    "For the images that we get from each iteration of the algorithm(we store images and their offsets during the algorithm) beacause we run for b, g and r, g seperately and rescale and get overlapped on each iteration, the results dimension may be different. in order to get the result image we have to resize one of them(blue channel). it's the reason that blue channel in each layer doesn't match with other channels. but it doesn't affect the main result. \n",
    "\n",
    "the offsets value for images Amir, Mosque and Train:\n",
    "\n",
    "b_offset:  -24 -50\n",
    ",r_offset:  18 56\n",
    "\n",
    "b_offset:  4 -56\n",
    ",r_offset:  2 68\n",
    "\n",
    "b_offset:  -6 -42\n",
    ",r_offset:  28 44\n",
    "\n",
    "these are the results for each step of the algorithm:\n",
    "\n"
   ]
  },
  {
   "cell_type": "markdown",
   "metadata": {
    "id": "-fFNGkzWOcZy"
   },
   "source": [
    "![](res03_Amir_layer0.jpeg)\n"
   ]
  },
  {
   "cell_type": "markdown",
   "metadata": {},
   "source": [
    "![](res03_Amir_layer1.jpeg)"
   ]
  },
  {
   "cell_type": "markdown",
   "metadata": {},
   "source": [
    "![](res03_Amir_layer2.jpeg)"
   ]
  },
  {
   "cell_type": "markdown",
   "metadata": {},
   "source": [
    "![](res03_Amir_layer3.jpeg)"
   ]
  },
  {
   "cell_type": "markdown",
   "metadata": {},
   "source": [
    "![](res03_Amir.jpeg)"
   ]
  },
  {
   "cell_type": "markdown",
   "metadata": {},
   "source": [
    "![](res04_Mosque_layer0.jpeg)"
   ]
  },
  {
   "cell_type": "markdown",
   "metadata": {},
   "source": [
    "![](res04_Mosque_layer1.jpeg)"
   ]
  },
  {
   "cell_type": "markdown",
   "metadata": {},
   "source": [
    "![](res04_Mosque_layer2.jpeg)"
   ]
  },
  {
   "cell_type": "markdown",
   "metadata": {},
   "source": [
    "![](res04_Mosque_layer3.jpeg)"
   ]
  },
  {
   "cell_type": "markdown",
   "metadata": {},
   "source": [
    "![](res04_Mosque.jpeg)"
   ]
  },
  {
   "cell_type": "markdown",
   "metadata": {},
   "source": [
    "![](res05_Train_layer0.jpeg)"
   ]
  },
  {
   "cell_type": "markdown",
   "metadata": {},
   "source": [
    "![](res05_Train_layer1.jpeg)"
   ]
  },
  {
   "cell_type": "markdown",
   "metadata": {},
   "source": [
    "![](res05_Train_layer2.jpeg)"
   ]
  },
  {
   "cell_type": "markdown",
   "metadata": {},
   "source": [
    "![](res05_Train_layer3.jpeg)"
   ]
  },
  {
   "cell_type": "markdown",
   "metadata": {},
   "source": [
    "![](res05_Train.jpeg)"
   ]
  },
  {
   "cell_type": "code",
   "execution_count": null,
   "metadata": {},
   "outputs": [],
   "source": []
  }
 ],
 "metadata": {
  "colab": {
   "name": "HW01-3.ipynb",
   "provenance": []
  },
  "kernelspec": {
   "display_name": "Python 3 (ipykernel)",
   "language": "python",
   "name": "python3"
  },
  "language_info": {
   "codemirror_mode": {
    "name": "ipython",
    "version": 3
   },
   "file_extension": ".py",
   "mimetype": "text/x-python",
   "name": "python",
   "nbconvert_exporter": "python",
   "pygments_lexer": "ipython3",
   "version": "3.9.7"
  }
 },
 "nbformat": 4,
 "nbformat_minor": 1
}
