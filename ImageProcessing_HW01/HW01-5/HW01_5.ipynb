{
 "cells": [
  {
   "cell_type": "markdown",
   "metadata": {
    "id": "lJcUIzm9pwPi"
   },
   "source": [
    "# Convolution\n",
    "\n",
    "**Library function**: the cv2.blur function blur picture with box filter. here the given dimesion of filter is 3*3.\n",
    "\n",
    "processing time: 0.025650200000000067 sec\n",
    "\n",
    "**blur each pixel one by one**: we blur each rgb channel seperately. for each channel we ignore first and last columns and rows and for all other pixels we apply the box filter. so we just need two for loops and for ech pixel get average of 9 pixels around. store all these blured channels in new ones with same shape.\n",
    "\n",
    "processing time: 336.6476464 sec\n",
    "\n",
    "**sum of matrices**: we get all 9 submatrices that obtained by removing 0-1-2 rows and colums from each side. in other words we get submatrice affected by each pixel of the filter. and at the end it's enough to calculate sum of all to get blurred image.\n",
    "\n",
    "processing time: 0.6048652000000061 sec\n"
   ]
  },
  {
   "cell_type": "code",
   "execution_count": null,
   "metadata": {},
   "outputs": [],
   "source": []
  }
 ],
 "metadata": {
  "colab": {
   "name": "HW01_5.ipynb",
   "provenance": []
  },
  "kernelspec": {
   "display_name": "Python 3 (ipykernel)",
   "language": "python",
   "name": "python3"
  },
  "language_info": {
   "codemirror_mode": {
    "name": "ipython",
    "version": 3
   },
   "file_extension": ".py",
   "mimetype": "text/x-python",
   "name": "python",
   "nbconvert_exporter": "python",
   "pygments_lexer": "ipython3",
   "version": "3.9.7"
  }
 },
 "nbformat": 4,
 "nbformat_minor": 1
}
