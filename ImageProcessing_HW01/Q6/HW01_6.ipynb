{
 "cells": [
  {
   "cell_type": "markdown",
   "metadata": {
    "id": "7XHpB839FT1e"
   },
   "source": [
    "# Histogram Specification\n",
    "\n",
    "we are supposed to get one image and make it's histogram similar to another given image. first of all we get three rgb channels of the images and do histogram_matching for each of the channels. in order to do this, we should get histogram of images and compute cumulative sum. and absolutly we normalize them. we map every intensity $x$ in first image with cumulative function $f(x)$ to first intensity that $f(y) \\geq f(x)$($f(y)$ is the comulative sum for second image). at the end after merge all channels we have:\n"
   ]
  },
  {
   "cell_type": "markdown",
   "metadata": {
    "id": "NWj1LODATEXr"
   },
   "source": [
    "cumulative sum for r channels:\n",
    "<img src=\"cumsum_r.png\" width=\"400\"/>"
   ]
  },
  {
   "cell_type": "markdown",
   "metadata": {},
   "source": [
    "cumulative sum for g channels:\n",
    "<img src=\"cumsum_g.png\" width=\"400\"/>"
   ]
  },
  {
   "cell_type": "markdown",
   "metadata": {},
   "source": [
    "cumulative sum for b channels:\n",
    "<img src=\"cumsum_b.png\" width=\"400\"/>"
   ]
  },
  {
   "cell_type": "markdown",
   "metadata": {},
   "source": [
    "and the histogram of cumulative sum for the images:\n",
    "<img src=\"cumsum_merged.png\" width=\"400\"/>"
   ]
  },
  {
   "cell_type": "code",
   "execution_count": null,
   "metadata": {},
   "outputs": [],
   "source": []
  }
 ],
 "metadata": {
  "colab": {
   "name": "HW01_6.ipynb",
   "provenance": []
  },
  "kernelspec": {
   "display_name": "Python 3 (ipykernel)",
   "language": "python",
   "name": "python3"
  },
  "language_info": {
   "codemirror_mode": {
    "name": "ipython",
    "version": 3
   },
   "file_extension": ".py",
   "mimetype": "text/x-python",
   "name": "python",
   "nbconvert_exporter": "python",
   "pygments_lexer": "ipython3",
   "version": "3.9.7"
  }
 },
 "nbformat": 4,
 "nbformat_minor": 1
}
