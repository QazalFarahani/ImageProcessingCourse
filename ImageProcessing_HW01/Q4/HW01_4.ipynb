{
  "nbformat": 4,
  "nbformat_minor": 0,
  "metadata": {
    "colab": {
      "name": "HW01_4.ipynb",
      "provenance": []
    },
    "kernelspec": {
      "name": "python3",
      "display_name": "Python 3"
    },
    "language_info": {
      "name": "python"
    }
  },
  "cells": [
    {
      "cell_type": "markdown",
      "metadata": {
        "id": "-ReyilVNkJ-b"
      },
      "source": [
        "# Color Processing and Blurring\n",
        "\n",
        "we are asked to change the color of the flower from pink to yellow. so first of all we know that for changing the color and not anything else, we should work on just channel h. so we define a range to specify all pink colors. here we chose range [135, 165] and creating a mask using them. we can use this mask and bitwise_and function to get only the flower out of the image(the background will be black). and then, we are going to use mask to only change the defined values to yellow(27). we do the same for the whole image and then blur it using box filter and filter2D function in rgb. then we use np.where to replace the flower with flower part of the blurred image. after merging the channels we will have a nice yellow flower blurred on the background. "
      ]
    }
  ]
}