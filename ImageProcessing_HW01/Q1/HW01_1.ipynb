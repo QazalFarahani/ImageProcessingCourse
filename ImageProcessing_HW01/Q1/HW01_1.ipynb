{
 "cells": [
  {
   "cell_type": "markdown",
   "metadata": {
    "id": "gUNyjpCwWJmV"
   },
   "source": [
    "\n",
    "# Enhancement\n",
    "We want to adjust the brightnes and contrast of the given image. the methods we will be using for increasing the brightness is the simple method multiplication. beacause we have a dark image, after multiplication by constant 2 the numbers will reamin in range [0-255].\n",
    "\n",
    "And then we want to increase the contrast. for this purpose we should equalize the histogram. first of all we calculate the histogram of the image and then get the cumulative sum out of it using this formula:\n",
    "$$S_x(j) = \\sum_{i = 0}^{j} P_x(i)$$\n",
    "\n",
    "Then we should map our values in the function to range [0-255]. to do this we multiply all values by 255 and then normalize them. at the end it's enough to give this normalized values to the pixels and then reshape the image to get the result.\n",
    "\n",
    "we do this for all of the three channels and then concaneate them.\n",
    "\n"
   ]
  },
  {
   "cell_type": "markdown",
   "metadata": {},
   
  },
  {
   "cell_type": "code",
   "execution_count": null,
   "metadata": {},
   "outputs": [],
   "source": []
  }
 ],
 "metadata": {
  "colab": {
   "collapsed_sections": [],
   "name": "HW1-1.ipynb",
   "provenance": []
  },
  "kernelspec": {
   "display_name": "Python 3 (ipykernel)",
   "language": "python",
   "name": "python3"
  },
  "language_info": {
   "codemirror_mode": {
    "name": "ipython",
    "version": 3
   },
   "file_extension": ".py",
   "mimetype": "text/x-python",
   "name": "python",
   "nbconvert_exporter": "python",
   "pygments_lexer": "ipython3",
   "version": "3.9.7"
  }
 },
 "nbformat": 4,
 "nbformat_minor": 1
}
